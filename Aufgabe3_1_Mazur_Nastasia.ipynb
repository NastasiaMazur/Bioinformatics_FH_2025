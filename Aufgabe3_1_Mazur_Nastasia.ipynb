{
  "cells": [
    {
      "cell_type": "markdown",
      "metadata": {
        "id": "view-in-github",
        "colab_type": "text"
      },
      "source": [
        "<a href=\"https://colab.research.google.com/github/NastasiaMazur/Bioinformatics_FH_2025/blob/main/Aufgabe3_1_Mazur_Nastasia.ipynb\" target=\"_parent\"><img src=\"https://colab.research.google.com/assets/colab-badge.svg\" alt=\"Open In Colab\"/></a>"
      ]
    },
    {
      "cell_type": "markdown",
      "metadata": {
        "id": "CKzI1LTf_Zly"
      },
      "source": [
        "<code style=\"background:khaki\"><span style=\"color:khaki\">____________________________________________________________________________________________________</span></code>\n",
        "\n",
        "## Hello Python:\n",
        "\n",
        "Die Druckfunktion `print()` gibt in Python alles auf den Bildschirm aus, was in der Klammer steht.\n",
        "\n",
        "* Strings (Text) müssen in Anführungszeichen gesetzt sein (\"ein Beispiel\").\n",
        "* Zahlen und Variablen werden ohne Anführungszeichen geschrieben.\n",
        "* Mehrere Zahlen, Variablen oder Strings müssen durch einen Beistrich getrennt werden.\n",
        "\n",
        "***"
      ]
    },
    {
      "cell_type": "code",
      "execution_count": 1,
      "metadata": {
        "colab": {
          "base_uri": "https://localhost:8080/"
        },
        "id": "cDReH09T_Zl2",
        "outputId": "9ef77cb0-4468-4142-9e19-cdcb2abb9531"
      },
      "outputs": [
        {
          "output_type": "stream",
          "name": "stdout",
          "text": [
            "1 2 3\n"
          ]
        }
      ],
      "source": [
        "print(1,2,3)"
      ]
    },
    {
      "cell_type": "code",
      "execution_count": 2,
      "metadata": {
        "colab": {
          "base_uri": "https://localhost:8080/"
        },
        "id": "tNzEZB9U_Zl4",
        "outputId": "eea7860e-fb10-42ab-a02e-a2fc10dd3771"
      },
      "outputs": [
        {
          "output_type": "stream",
          "name": "stdout",
          "text": [
            "Hello Python!\n"
          ]
        }
      ],
      "source": [
        "print(\"Hello Python!\")"
      ]
    },
    {
      "cell_type": "code",
      "execution_count": 3,
      "metadata": {
        "colab": {
          "base_uri": "https://localhost:8080/"
        },
        "id": "O2wuTYlh_Zl4",
        "outputId": "301390d8-4b8d-46b7-d388-3f46a8aafbfd"
      },
      "outputs": [
        {
          "output_type": "stream",
          "name": "stdout",
          "text": [
            "Das heutige Datum ist: 03.04.2025\n"
          ]
        }
      ],
      "source": [
        "datum = \"03.04.2025\"\n",
        "print(\"Das heutige Datum ist:\", datum)\n",
        "datum = \"blah\""
      ]
    },
    {
      "cell_type": "markdown",
      "metadata": {
        "id": "G3FGRzOS_Zl5"
      },
      "source": [
        "<code style=\"background:khaki\"><span style=\"color:khaki\">____________________________________________________________________________________________________</span></code>\n",
        "\n",
        "### Struktur ist alles - Programmstruktur in Python\n",
        "\n",
        "In vielen Programmiersprachen werden einzelne Blöcke mit Klammern markiert (z.B. auch in R). In Python wird die Zugehörigkeit zu einem Block durch Einrückungen erzielt. Wenn ein Block definiert wird steht am Ende ein Doppelpunkt.\n",
        "\n",
        "Ein Beispiel - **if** Bedingung\n",
        "Alles was zum if Block gehört ist eingerückt, und wird nur ausgeführt wenn die Bedingung zutrifft.\n",
        "***"
      ]
    },
    {
      "cell_type": "code",
      "execution_count": 4,
      "metadata": {
        "colab": {
          "base_uri": "https://localhost:8080/"
        },
        "id": "J3o9e5g1_Zl5",
        "outputId": "a01c9e71-ddb4-4380-b0cb-e430ee204ab1"
      },
      "outputs": [
        {
          "output_type": "stream",
          "name": "stdout",
          "text": [
            "Wir sind im if Block\n",
            "Der Wert der Variable x ist 1\n"
          ]
        }
      ],
      "source": [
        "x = 1\n",
        "if x == 1:\n",
        "    print(\"Wir sind im if Block\")\n",
        "    print(\"Der Wert der Variable x ist 1\")"
      ]
    },
    {
      "cell_type": "markdown",
      "metadata": {
        "id": "GMe8DuGL_Zl5"
      },
      "source": [
        "***\n",
        "Was wir im folgenden Beispiel ausgedruck?\n",
        "\n",
        "> - **(a)** \"Der Wert der Variable x ist 1\" und \"Der Wert von x ist x\"\n",
        "> - **(b)** \"Der Wert der Variable x ist 1\" und \"Der Wert von x ist 1\"\n",
        "> - **(c)** \"Der Wert der Variable x ist 1\"\n",
        "> - **(d)** \"Der Wert von x ist 1\"\n",
        "***"
      ]
    },
    {
      "cell_type": "code",
      "execution_count": 5,
      "metadata": {
        "colab": {
          "base_uri": "https://localhost:8080/"
        },
        "id": "bZZJ0sTI_Zl6",
        "outputId": "04bfa878-d7d9-45b4-e16c-294c71441f6a"
      },
      "outputs": [
        {
          "output_type": "stream",
          "name": "stdout",
          "text": [
            "Der Wert der Variable x ist 1\n",
            "Der Wert von x ist 1\n"
          ]
        }
      ],
      "source": [
        "x = 1\n",
        "if x == 1:\n",
        "    print(\"Der Wert der Variable x ist 1\")\n",
        "\n",
        "print(\"Der Wert von x ist\", x)"
      ]
    },
    {
      "cell_type": "markdown",
      "metadata": {
        "id": "bnl8rhU3_Zl6"
      },
      "source": [
        "***\n",
        "Und im nächsten Beispiel?\n",
        "\n",
        "> - **(a)** \"Der Wert der Variable x ist 1\" und \"Der Wert von x ist x\"\n",
        "> - **(b)** \"Der Wert der Variable x ist 1\" und \"Der Wert von x ist 7\"\n",
        "> - **(c)** \"Der Wert der Variable x ist 1\"\n",
        "> - **(d)** \"Der Wert von x ist 7\"\n",
        "***"
      ]
    },
    {
      "cell_type": "code",
      "execution_count": 6,
      "metadata": {
        "colab": {
          "base_uri": "https://localhost:8080/"
        },
        "id": "6APJ8zE6_Zl6",
        "outputId": "877d37be-b582-42fc-a6ce-fc5379c56118"
      },
      "outputs": [
        {
          "output_type": "stream",
          "name": "stdout",
          "text": [
            "Der Wert von x ist 7\n"
          ]
        }
      ],
      "source": [
        "x = 7\n",
        "if x == 1:\n",
        "    print(\"Der Wert der Variable x ist 1\")\n",
        "print(\"Der Wert von x ist\", x)"
      ]
    },
    {
      "cell_type": "markdown",
      "metadata": {
        "id": "EuRzmr03_Zl7"
      },
      "source": [
        "<code style=\"background:khaki\"><span style=\"color:khaki\">____________________________________________________________________________________________________</span></code>\n",
        "\n",
        "### Variablen und Typen\n",
        "\n",
        "Variablen sind Behälter, denen man Werte zuweisen kann. Variablennamen können, unter Einhaltung bestimmter Regeln, frei gewählt werden. Diese Regeln sind für Python:\n",
        "\n",
        "* Der Name muss mit einem Buchstaben oder einem Unterstrich beginnen.\n",
        "* Der Name darf nicht mit einer Nummer beginnen\n",
        "* Der Name kann nur alpha-numerische Zeichen und das Unterstrichzeichen enthalten (A-z, 0-9, und _ )\n",
        "* Variablennamen sind case-sensitive (age, Age und AGE sind drei unterschiedliche Variablen)\n",
        "\n",
        "In Python muss man den Variablentyp nicht definieren wie in anderen Programmiersprachen. Es gibt aber trotzdem Unterschiede in den Datentypen.\n",
        "\n",
        "**Haupttypen:**\n",
        "* Zahlen: Integers (Ganze Zahlen), Float (Kommazahlen)\n",
        "* Strings: Texteingaben, müssen in Anführungszeichen (einfach, oder doppelt) geschrieben sein.\n",
        "* Operatoren: Zeichen für mathematische Operationen (+,-,...). Man kann manche Operatoren auch für Strings verwenden.\n",
        "\n",
        "Den Datentyp bzw. die Datenklasse kann man mit der Funktion `type()` abrufen. Man kann auch mit Funktionen wie `str()`, `int()`, oder `float()` Variablenklassen definieren.\n",
        "\n",
        "***"
      ]
    },
    {
      "cell_type": "code",
      "execution_count": 7,
      "metadata": {
        "colab": {
          "base_uri": "https://localhost:8080/"
        },
        "id": "uueiotsm_Zl7",
        "outputId": "2f65e84a-c8fd-496d-97f4-21b9c4c24f36"
      },
      "outputs": [
        {
          "output_type": "stream",
          "name": "stdout",
          "text": [
            "<class 'int'>\n",
            "<class 'str'>\n",
            "Guten Abend Alex\n",
            "Die Antwort ist die Zahl: 12\n"
          ]
        }
      ],
      "source": [
        "mystring = \"Guten Abend\"\n",
        "myname = \"Alex\"\n",
        "\n",
        "mynum = 12\n",
        "\n",
        "print(type(mynum))\n",
        "print(type(mystring))\n",
        "\n",
        "#Zusammensetzten von Strings\n",
        "print(mystring + \" \" + myname)\n",
        "\n",
        "#Drucken verschiedener Datenklassen\n",
        "print(\"Die Antwort ist die Zahl:\", mynum)"
      ]
    },
    {
      "cell_type": "markdown",
      "metadata": {
        "id": "pKyFlbhQ_Zl7"
      },
      "source": [
        "***\n",
        "> Welche Datenklasse hat die Variable mynum im folgenden Codeabschnitt?\n",
        ">\n",
        "> **Aufgabe**: Verwendet die `type()` Funktion um es herauszufinden.\n",
        "***"
      ]
    },
    {
      "cell_type": "code",
      "execution_count": 8,
      "metadata": {
        "colab": {
          "base_uri": "https://localhost:8080/"
        },
        "id": "mtn-ISUt_Zl7",
        "outputId": "d0d2c15e-f8c9-46d2-c7bb-193b9aeb84b6"
      },
      "outputs": [
        {
          "output_type": "stream",
          "name": "stdout",
          "text": [
            "<class 'str'>\n"
          ]
        }
      ],
      "source": [
        "mynum = 12\n",
        "mynum = str(mynum)\n",
        "\n",
        "#Welche Datenklasse hat die Variable mynum?\n",
        "#Verwendet die type Funktion um es herauszufinden.\n",
        "\n",
        "print(type(mynum))\n"
      ]
    },
    {
      "cell_type": "code",
      "execution_count": 9,
      "metadata": {
        "colab": {
          "base_uri": "https://localhost:8080/"
        },
        "id": "Noh9v-Q7_Zl8",
        "outputId": "410f1960-d08a-425d-9d41-3bc1da25a610"
      },
      "outputs": [
        {
          "output_type": "stream",
          "name": "stdout",
          "text": [
            "<class 'float'>\n",
            "<class 'float'>\n"
          ]
        }
      ],
      "source": [
        "myfloat1 = 12.0\n",
        "myfloat2 = float(12)\n",
        "\n",
        "print(type(myfloat1))\n",
        "print(type(myfloat2))"
      ]
    },
    {
      "cell_type": "markdown",
      "metadata": {
        "id": "0ZPCveC3_Zl8"
      },
      "source": [
        "<code style=\"background:khaki\"><span style=\"color:khaki\">____________________________________________________________________________________________________</span></code>\n",
        "\n",
        "### if Abfrage\n",
        "\n",
        "Wenn Code nur unter einer bestimmten Bedingung ausgeführt werden soll, benötigen wir `if` sowie eine Bedingung die erfüllt werden muss.  \n",
        "\n",
        "In Python hat eine if Abfrage den folgenden Syntax:\n",
        "\n",
        "`if <Bedingung>:\n",
        "    Der Doppelpunkt ist wichtig, genau wie die Einrückung.\n",
        "else:\n",
        "    Auch hier benötigt man einen Doppelpunkt und die Einrückung.`\n",
        "\n",
        "Wenn es noch andere Bedingungen gibt, kann man in Python die Funktion `elif <Bedingung>:` verwenden. Vergleichsoperatoren können die folgenden sein:\n",
        "\n",
        "* == : für gleich\n",
        "* != : für ungleich\n",
        "* \\> bzw. \\< : für größer und kleiner\n",
        "* \\>= bzw. <=\n",
        "\n",
        "***\n"
      ]
    },
    {
      "cell_type": "code",
      "execution_count": 10,
      "metadata": {
        "colab": {
          "base_uri": "https://localhost:8080/"
        },
        "id": "dvNLfyNu_Zl8",
        "outputId": "b6144c43-c1f7-4605-a1a6-7d443c4c388f"
      },
      "outputs": [
        {
          "output_type": "stream",
          "name": "stdout",
          "text": [
            "Bye, bye...\n"
          ]
        }
      ],
      "source": [
        "wetter = \"regen\"\n",
        "\n",
        "if wetter == \"sonnig\":\n",
        "    print(\"Sonnenbrille nicht vergessen.\")\n",
        "else:\n",
        "    print(\"Bye, bye...\")"
      ]
    },
    {
      "cell_type": "code",
      "execution_count": 11,
      "metadata": {
        "colab": {
          "base_uri": "https://localhost:8080/"
        },
        "id": "RgjQ-UzC_Zl8",
        "outputId": "00dfa9f5-c403-4872-c43d-c1714ecc355d"
      },
      "outputs": [
        {
          "output_type": "stream",
          "name": "stdout",
          "text": [
            "Error: Das Wetter, CLAJDF kenne ich nicht\n"
          ]
        }
      ],
      "source": [
        "wetter = \"clajdf\"\n",
        "\n",
        "if wetter == \"sonnig\":\n",
        "    print(\"Sonnenbrille nicht vergessen.\")\n",
        "elif wetter == \"wolkig\":\n",
        "    print(\"Bye, bye...\")\n",
        "elif wetter == \"regnerisch\":\n",
        "    print(\"Regenschirm nicht vergessen.\")\n",
        "else:\n",
        "    print(\"Error: Das Wetter,\", wetter.upper(),\"kenne ich nicht\")"
      ]
    },
    {
      "cell_type": "markdown",
      "metadata": {
        "id": "AVCURLeM_Zl8"
      },
      "source": [
        "<code style=\"background:royalblue\"><span style=\"color:royalblue\">____________________________________________________________________________________________________</span></code>\n",
        "\n",
        "***\n",
        "    \n",
        "> **<font color = royalblue>Aufgabe 3.1. (A):</font>**\n",
        ">\n",
        "> Ändert das folgende Python Skript ab:\n",
        "\n",
        "> * Die Variable **name** soll euren Namen enthalten, und die Variable **birthyear** euer Geburtsjahr.\n",
        "> * Fügt einen zusätzlichen **elif block** hinzu der ausgibt „Enjoy, don’t worry“ wenn das Alter >= 45 ist.\n",
        "> * Ändert die Ausgabe im **else block** auf eine von euch gewählte Nachricht. Beschreibt in einem Kommentar wann ihr denkt, dass der else block ausgeführt wird.\n",
        "> * Ändert nun den Code so dass auch das **derzeitige Jahr als Variable** gespeichert wird und ersetzt das Jahr im Code durch diese Variable.\n",
        "> * Testet eurer Skript mit den Geburtsjahren 2001, 1981, und 1971 und überprüft, ob die richtigen Textteile ausgegeben werden.\n",
        "\n",
        "***"
      ]
    },
    {
      "cell_type": "code",
      "execution_count": 16,
      "metadata": {
        "colab": {
          "base_uri": "https://localhost:8080/"
        },
        "id": "QhYWE02x_Zl9",
        "outputId": "49a2f1de-33f4-4f4d-cf1e-94473a130f3b"
      },
      "outputs": [
        {
          "output_type": "stream",
          "name": "stdout",
          "text": [
            "Hello  Nastasia_Mazur , this year you are 29 years old.\n",
            "You’re still young – keep exploring the world!\n"
          ]
        }
      ],
      "source": [
        "#Aufgabe P1\n",
        "#Variablenzuweisung\n",
        "name = \"Nastasia_Mazur\"\n",
        "birthyear = 1996      # 2001, 1981, und 1971\n",
        "\n",
        "#Neue Variable (z.B. year)\n",
        "current_year = 2025\n",
        "\n",
        "\n",
        "#Berechnung des Alters\n",
        "age = current_year - birthyear\n",
        "print(\"Hello \",name,\", this year you are\",age,\"years old.\")\n",
        "\n",
        "#If Abfrage ob Wert zwischen 31 und 45 liegt.\n",
        "if age < 45 and age > 30:\n",
        "    midlc = 45 - age\n",
        "    print(\"You still have\",midlc,\"years to your midlife crisis\")\n",
        "# Elif wenn Alter >= 45\n",
        "elif age >= 45:\n",
        "    print(\"Enjoy, don’t worry\")\n",
        "#Einfügen von else\n",
        "else:\n",
        "    #print(\"Lucky you\")\n",
        "    # Der else-Block wird ausgeführt, wenn das Alter 30 oder jünger ist.\n",
        "    print(\"You’re still young – keep exploring the world!\")"
      ]
    },
    {
      "cell_type": "markdown",
      "metadata": {
        "id": "hNe0nAzt_Zl9"
      },
      "source": [
        "<code style=\"background:khaki\"><span style=\"color:khaki\">____________________________________________________________________________________________________</span></code>\n",
        "\n",
        "### Schleifen:\n",
        "\n",
        "In einer Schleife wird derselbe Codeblock ausgeführt, bis eine bestimmte Bedingung eintritt (for) bzw. solange eine bestimmte Bedingung erfüllt ist (while). In Python haben wir zwei Typen von Schleifen, **for** und **while** Schleifen.\n",
        "\n",
        "In Python beginnt der Index bzw. die Zählung immer bei Null. Wenn ich einen Codeblock 3 mal durchlaufen lassen will, könnte man die folgende `for` Schleife verwenden. Wobei die Loop Variable \"x\" die Werte 0-2 annimmt.\n",
        "\n",
        "In der `while` Schleife muss man eine Abbruchbedingung angeben. Etwa, solange eine Zählvariable unter einem bestimmten Wert ist.\n",
        "\n",
        "***\n"
      ]
    },
    {
      "cell_type": "code",
      "execution_count": 17,
      "metadata": {
        "colab": {
          "base_uri": "https://localhost:8080/"
        },
        "id": "0_N_Vzjg_Zl9",
        "outputId": "b7a63501-3ea1-4fab-91bd-870b0fa6669a"
      },
      "outputs": [
        {
          "output_type": "stream",
          "name": "stdout",
          "text": [
            "0\n",
            "1\n",
            "2\n"
          ]
        },
        {
          "output_type": "execute_result",
          "data": {
            "text/plain": [
              "range(0, 3)"
            ]
          },
          "metadata": {},
          "execution_count": 17
        }
      ],
      "source": [
        "for x in range(3):\n",
        "    print(x)\n",
        "\n",
        "range(3)"
      ]
    },
    {
      "cell_type": "code",
      "execution_count": 18,
      "metadata": {
        "colab": {
          "base_uri": "https://localhost:8080/"
        },
        "id": "_Yjg6H3b_Zl9",
        "outputId": "de0c4b7b-68b5-4f6e-bf25-dcb6e0814ea7"
      },
      "outputs": [
        {
          "output_type": "stream",
          "name": "stdout",
          "text": [
            "1\n",
            "2\n",
            "3\n",
            "4\n"
          ]
        }
      ],
      "source": [
        "count=0\n",
        "while count <= 3:\n",
        "    count += 1\n",
        "    print(count)\n",
        "#    count=count+1\n",
        ""
      ]
    },
    {
      "cell_type": "markdown",
      "metadata": {
        "id": "aKO2j_wD_Zl-"
      },
      "source": [
        "<code style=\"background:royalblue\"><span style=\"color:royalblue\">____________________________________________________________________________________________________</span></code>\n",
        "\n",
        "    \n",
        "**<font color = royalblue>Aufgabe 3.1.B - Beschreibung:</font>**\n",
        "\n",
        "Im nächsten Beispiel haben wir eine Sequenz von Wetterdaten. Jeder Buchstabe entspricht dem Wetter eines Tages.\n",
        "\n",
        "`wetter=\"SSWNWWRRSWWSRRRRWRRWRXXRSSSWWRSRXRXXSSNNRSWWWRWNWNXSXSSRRRXRNSWWWWSRXXRWWSWWXXSSSR\"`\n",
        "\n",
        "Bedeutung des Buchstabencodes:\n",
        "* N = Nebel\n",
        "* R = Regen\n",
        "* S = Sonne\n",
        "* W = Wolken\n",
        "* X = Schnee\n",
        "\n",
        "Für die Sequenz, welche der Variable \"wetter\" zugewiesen wurde möchten wir herausfinden wie viele Sonnentage es in der Periode gab.\n",
        "\n",
        "Dafür müssen wir durch jeden Buchstaben (Tag) der Sequenz gehen, und wenn es ein S ist, eine Zählvariable (z.B. sonnentage) um 1 erhöhen. Das Programm beinhaltet:\n",
        "\n",
        "* eine for Schleife\n",
        "* eine if Abfrage mit dem Vergleich der Buchstaben\n",
        "* eine Erhöhung eines Zählers\n",
        "\n",
        "Zuerst sehen wir uns an was in der Schleifenvariable (hier: \"tag\") der for Schleife gespeichert wird, wenn sie schrittweise durch die \"wetter\" läuft. Die Variable, die in der Schleife verwendet wird, muss vorher nicht definiert werden, und kann jeden zulässigen Namen haben.\n",
        "\n",
        "Wir können auch folgendes verwenden:\n",
        "\n",
        "`for i in wetter:\n",
        "    print(i)`\n",
        "\n",
        "Generell sind sprechendere Namen, aber besser, da man dann schneller erkennt was hinter der Variable steckt.\n",
        "\n",
        "***\n"
      ]
    },
    {
      "cell_type": "code",
      "execution_count": null,
      "metadata": {
        "id": "F5crTY8e_Zl-"
      },
      "outputs": [],
      "source": [
        "wetter=\"SSWNWWRRSWWSRRRRWRRWRXXRSSSWWRSRXRXXSSNNRSWWWRWNWNXSXSSRRRXRNSWWWWSRXXRWWSWWXXSSSR\"\n",
        "\n",
        "for tag in wetter:\n",
        "    print(tag)"
      ]
    },
    {
      "cell_type": "markdown",
      "metadata": {
        "id": "8ftH2FDK_Zl-"
      },
      "source": [
        "<code style=\"background:royalblue\"><span style=\"color:royalblue\">____________________________________________________________________________________________________</span></code>\n",
        "\n",
        "Praktischerweise gibt Python in der for Schleife über einen String den Inhalt der jeweiligen Position des Strings zurück. Damit müssen wir nun nur mehr überprüfen, ob die Variable die von der for Schleife befüllt wird (hier: \"tag\") ein \"S\" ist. Wenn ja können wir den Zähler erhöhen.\n",
        "\n",
        "Wir benötigen:\n",
        "> * Eine Zählvariable die wir mit 0 Initialisieren\n",
        "> * Eine if Abfrage ob der jeweilige Inhalt der Variable \"tag\" mit dem String \"S\" übereinstimmt.\n",
        "\n",
        "Um die Zählvariable (hier: \"sonnentage\") um 1 zu erhöhen gibt es eine Kurzform: `sonnentage += 1`\n",
        "\n",
        "Die % Sonnentage können wir uns über die Länge der Sequenz und die Anzahl der Sonnentage berechnen. Die Länge der Sequenz bekommt man mit `len(wetter)`.\n",
        "\n",
        "Mit der Funktion `input()` kann man Benutzerinput im Skript abfragen. `input(\"Bitte geben Sie einen Wert ein:\")` gibt die Eingabeaufforderung im Jupyter Notebook aus, der Input des Benutzers kann in eine Variable gespeichert werden z.B. `userin = input(\"Bitte geben Sie einen Wert ein:\")`\n",
        "\n",
        "\n",
        "**<font color = royalblue>Aufgabe 3.1. (B)</font>**\n",
        "\n",
        "> * Ergänzt die fehlenden Teile im Code\n",
        "> * Wo muss der `print()` Befehl stehen damit er die **gesamte Anzahl** von Sonnentagen in der Sequenz ausgibt? Ergänzt den Code unten entsprechend.\n",
        "> * Ergänzt den Code mit der Berechnung der **% Sonnentage** und druckt den Wert aus.\n",
        "> * Definiert eine **Variable für den Wettercode** den man zählen will (S,W,N,R oder X), und verwendet diese in der for Schleife.\n",
        "> * Lasst den Benutzer entscheiden welcher Wettercode gezählt werden soll. Verwendet die Funktion `input()` und weist den Wert einer Variable zu.\n",
        "> * OPTIONAL: Schreibt eine Abfrage die eine Fehlermeldung ausgibt falls der User Input kein Wettercode aus der Liste ist.\n",
        "***"
      ]
    },
    {
      "cell_type": "code",
      "execution_count": 29,
      "metadata": {
        "colab": {
          "base_uri": "https://localhost:8080/"
        },
        "id": "N84Z8Q6L_Zl-",
        "outputId": "24ddc0ff-8c52-4423-810f-dd548d8d4a8a"
      },
      "outputs": [
        {
          "output_type": "stream",
          "name": "stdout",
          "text": [
            "Welchen Wettercode möchtest du zählen? (S, W, N, R, X): D\n",
            "Fehler: Ungültiger Wettercode. Bitte gib einen der folgenden Buchstaben ein: S, W, N, R, X.\n"
          ]
        }
      ],
      "source": [
        "#Input Sequenz Wetter\n",
        "wetter=\"SSWNWWRRSWWSRRRRWRRWRXXRSSSWWRSRXRXXSSNNRSWWWRWNWNXSXSSRRRXRNSWWWWSRXXRWWSWWXXSSSR\"\n",
        "monat=len(wetter)\n",
        "\n",
        "# Wettercode, den man zählen möchte (z. B. 'S' für Sonnentage)\n",
        "#gesuchter_code = \"S\"\n",
        "\n",
        "# Liste gültiger Wettercodes\n",
        "gueltige_codes = [\"S\", \"W\", \"N\", \"R\", \"X\"]\n",
        "\n",
        "# Benutzer entscheidet, welcher Wettercode gezählt werden soll\n",
        "gesuchter_code = input(\"Welchen Wettercode möchtest du zählen? (S, W, N, R, X): \").upper()\n",
        "\n",
        "#Initialisierung Zählvariable\n",
        "# Prüfung der Eingabe\n",
        "if gesuchter_code not in gueltige_codes:\n",
        "    print(\"Fehler: Ungültiger Wettercode. Bitte gib einen der folgenden Buchstaben ein: S, W, N, R, X.\")\n",
        "else:\n",
        "    # Initialisierung Zählvariable\n",
        "    anzahl = 0\n",
        "\n",
        "\n",
        "    #For Schleife über Wetter Sequenz, wenn der Buchstabe aus der Input Sequenz\n",
        "    #mit \"S\" übereinstimmt, Zähler erhöhen.\n",
        "    #Ergänzt die fehlenden Teile im Code\n",
        "    for tag in wetter:\n",
        "        if tag == gesuchter_code:\n",
        "            anzahl += 1\n",
        "\n",
        "    #Fügt den print() Befehl an der richtigen Stelle ein.\n",
        "    # Ausgabe der Anzahl für den gewählten Wettercode\n",
        "    print(\"Anzahl der '{}' Tage:\".format(gesuchter_code), anzahl)\n",
        "\n",
        "\n",
        "\n",
        "    #Berechnung % Sonnentage\n",
        "    #Berechnung des Prozentsatzes\n",
        "    prozent = (anzahl / monat) * 100\n",
        "    print(\"Prozentuale Anzahl an '{}' Tagen: {:.2f}%\".format(gesuchter_code, prozent))\n"
      ]
    },
    {
      "cell_type": "code",
      "execution_count": null,
      "metadata": {
        "id": "GuzBJJ0j_Zl_"
      },
      "outputs": [],
      "source": [
        "# User Input\n",
        "wc=input(\"Welcher Wettercode soll gezählt werden:\")\n",
        "\n",
        "print(\"Der Wettercode der gezählt werden soll ist: \" + wc)"
      ]
    },
    {
      "cell_type": "markdown",
      "metadata": {
        "id": "Mfl6G5zu_Zl_"
      },
      "source": [
        "<code style=\"background:lightgrey\"><span style=\"color:lightgrey\">____________________________________________________________________________________________________</span></code>\n",
        "\n",
        "**Ausflug: Heutiges Datum ausgeben**\n",
        "\n",
        "Um immer das aktuelle Datum auszugeben, muss man ein zusätzliches Modul importieren. Ähnlich wie in R können auch in Python viele unterschiedliche Module importiert und verwendet werden.\n",
        "Der Import geschieht über den Befehl: **import** mit dem Namen des Moduls\n",
        "Aufgerufen werden die Funktionen im Modul immer mit dem `Modulnamen.Funktion()` bzw. `Modulnamen.Funktion.Unterfunktion()`\n",
        "\n",
        "Es gibt noch andere Methoden um nur einzelne Funktionen aus Modulen zu importieren, dann benötigt man den Modulnamen nicht beim Aufruf.\n",
        "z.B. **from** datetime **import** date\n",
        "\n",
        "Die beiden Importmethoden haben ihre Vor- und Nachteile auf die wir hier nicht weiter eingehen.\n",
        "\n",
        "***\n"
      ]
    },
    {
      "cell_type": "code",
      "execution_count": 32,
      "metadata": {
        "colab": {
          "base_uri": "https://localhost:8080/"
        },
        "id": "Mi_qUHcD_Zl_",
        "outputId": "d3defb97-6c8d-45f4-ca5c-35810a0d7a47"
      },
      "outputs": [
        {
          "output_type": "stream",
          "name": "stdout",
          "text": [
            "19.04.2025\n"
          ]
        }
      ],
      "source": [
        "#Improtieren des Moduls datetime\n",
        "import datetime\n",
        "#Aufrufen der Funktion welche das heutige Datum ausgibt\n",
        "datum = datetime.date.today()\n",
        "#Ausdrucken des formatierten Datums\n",
        "print(datum.strftime(\"%d.%m.%Y\"))"
      ]
    },
    {
      "cell_type": "code",
      "execution_count": 33,
      "metadata": {
        "colab": {
          "base_uri": "https://localhost:8080/"
        },
        "id": "ERCj3UwW_Zl_",
        "outputId": "4207d958-df8a-4a89-b3da-c4c54fac15b6"
      },
      "outputs": [
        {
          "output_type": "stream",
          "name": "stdout",
          "text": [
            "19.04.2025\n"
          ]
        }
      ],
      "source": [
        "from datetime import date\n",
        "\n",
        "datum = date.today()\n",
        "#Ausdrucken des formatierten Datums\n",
        "print(datum.strftime(\"%d.%m.%Y\"))"
      ]
    }
  ],
  "metadata": {
    "kernelspec": {
      "display_name": "Python 3 (ipykernel)",
      "language": "python",
      "name": "python3"
    },
    "language_info": {
      "codemirror_mode": {
        "name": "ipython",
        "version": 3
      },
      "file_extension": ".py",
      "mimetype": "text/x-python",
      "name": "python",
      "nbconvert_exporter": "python",
      "pygments_lexer": "ipython3",
      "version": "3.13.1"
    },
    "colab": {
      "provenance": [],
      "include_colab_link": true
    }
  },
  "nbformat": 4,
  "nbformat_minor": 0
}