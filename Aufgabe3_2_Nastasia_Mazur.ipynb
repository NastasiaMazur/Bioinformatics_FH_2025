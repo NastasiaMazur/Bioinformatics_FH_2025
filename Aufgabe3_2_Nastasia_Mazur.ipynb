{
  "cells": [
    {
      "cell_type": "markdown",
      "metadata": {
        "id": "view-in-github",
        "colab_type": "text"
      },
      "source": [
        "<a href=\"https://colab.research.google.com/github/NastasiaMazur/Bioinformatics_FH_2025/blob/main/Aufgabe3_2_Nastasia_Mazur.ipynb\" target=\"_parent\"><img src=\"https://colab.research.google.com/assets/colab-badge.svg\" alt=\"Open In Colab\"/></a>"
      ]
    },
    {
      "cell_type": "markdown",
      "metadata": {
        "id": "P1zNzJpPO60A"
      },
      "source": [
        "<code style=\"background:royalblue\"><span style=\"color:royalblue\">____________________________________________________________________________________________________</span></code>\n",
        "\n",
        "## Aufgabenbeschreibung 3.2.:\n",
        "\n",
        "Bei der Suche nach möglichen Genen in einer DNA Sequenz ist das erste Indiz ein Start Codon (ATG).\n",
        "\n",
        "Wir möchten also in einer genomischen DNA Sequenz nach dem Muster: \"ATG\" suchen. Wir beginnen am Anfang der Sequenz. In der ersten Runde überprüfen wir ob die ersten drei Stellen unser Muster (\"ATG\") enthalten, in dem wir diese Stellen ausgeben und mit dem Muster vergleichen. Nachdem ein Gen in allen 3 Leserahmen eines DNA Strangs beginnen kann, rücken wir im zweiten Schritt eine Position weiter und vergleichen die nächsten 3 Nukleotide wieder mit dem Muster.\n",
        "\n",
        "\n",
        "> Für diese Aufgabe müssen wir:\n",
        ">\n",
        "> - An jeder Position die derzeitige + die zwei folgenden Positionen extrahieren\n",
        "> - und mit dem Muster vergleichen\n",
        "> - Diese Arbeitsschritte für jede Position in der Sequenz wiederholen.\n",
        "\n",
        "***"
      ]
    },
    {
      "cell_type": "markdown",
      "metadata": {
        "id": "sZIrQYsmO60C"
      },
      "source": [
        "<code style=\"background:khaki\"><span style=\"color:khaki\">____________________________________________________________________________________________________</span></code>\n",
        "\n",
        "### Mit Strings arbeiten\n",
        "\n",
        "Es gibt unterschiedliche Funktionen die man auf Strings anwenden kann. Wir benötigen unter anderem die Funktion\n",
        "\n",
        "- `len()` welche die Länge eines Strings ausgibt.\n",
        "\n",
        "Andere Funktionen sind z.B.\n",
        "- `mystring.upper()` alles in Großbuchstaben\n",
        "- `mystring.lower()` alles in Kleinbuchstaben\n",
        "\n",
        "Über den Index (Position) kann man auf Teile eines Strings zugreifen. Die erste Stelle eines Strings hat in Python den Index (die Stelle) 0. Das heißt mit `mystring[0]` würde man die erste Position bekommen. Wie in R werden mehrere zusammenhängende Positionen über ein von:bis `[2:5]` angegeben. In Python ist die **erste Stelle inkludiert, die letztere Stelle exkludiert.**\n",
        "\n",
        "Für das Ende der Sequenz gibt es einen Trick, mit negativen Werten kann man die Stellen vom Ende angeben, z.B. `[-10:-4]`.\n",
        "\n",
        "Wenn wir die letzten Stellen eines Strings ausgeben wollen, können wir die Funktion `len()` verwenden, so muss man nicht wissen wie lang der String ist, z.B. `[-5:len(mystring)]`. Es gibt aber noch einen weiteren Trick, wenn man den Wert hinter dem Doppelpunkt weg läßt, wird auch automatisch das Ende des Strings angenommen.\n",
        "\n",
        "Es ist wichtig zu bedenken, dass die Länge der Sequenz nicht mit dem letzten Index der Sequenz übereinstimmt, da  der Index bei 0 beginnt.\n",
        "\n",
        "Wir weisen die Input Sequenz: \"GATGCCATGC\" einer Variable zu. Die Sequenz hat die Klasse \"String\".\n",
        "\n",
        "***"
      ]
    },
    {
      "cell_type": "code",
      "execution_count": 1,
      "metadata": {
        "colab": {
          "base_uri": "https://localhost:8080/"
        },
        "id": "n93oV7UIO60D",
        "outputId": "2a8ae4b1-6bef-4a0b-ad95-e702821cd56a"
      },
      "outputs": [
        {
          "output_type": "stream",
          "name": "stdout",
          "text": [
            "<class 'str'>\n",
            "GAT\n",
            "Das Codon an der Position 0 ist: GAT\n"
          ]
        }
      ],
      "source": [
        "#Zuweisen der Sequenz zur Variable\n",
        "sequence = \"GATGCCATGC\"\n",
        "\n",
        "# Klasse bzw. den Typ einer Variable herausfinden\n",
        "print(type(sequence))\n",
        "\n",
        "#Extrahieren eines Sequenzteils\n",
        "i=0\n",
        "j=i+3\n",
        "teil = sequence[i:j]\n",
        "print(teil)\n",
        "\n",
        "#Ausdrucken des extrahierten Sequenzteils\n",
        "print(\"Das Codon an der Position 0 ist:\",teil)\n",
        "#Oder auch beides in einem\n",
        "#print(\"Das Nukleotid an der Position 0 ist:\",sequence[0])"
      ]
    },
    {
      "cell_type": "code",
      "execution_count": 2,
      "metadata": {
        "colab": {
          "base_uri": "https://localhost:8080/"
        },
        "id": "F0N1w5YDO60E",
        "outputId": "35999054-b750-4ad7-c417-597552f31682"
      },
      "outputs": [
        {
          "output_type": "stream",
          "name": "stdout",
          "text": [
            "Das Nukleotid an der Position 0 ist: A\n",
            "Das Nukleotid an der Position 0 ist: A\n"
          ]
        }
      ],
      "source": [
        "sequence = \"GATGCCATGC\"\n",
        "#print(type(sequence))\n",
        "teil = sequence[1]\n",
        "print(\"Das Nukleotid an der Position 0 ist:\",teil)\n",
        "print(\"Das Nukleotid an der Position 0 ist:\",sequence[1])"
      ]
    },
    {
      "cell_type": "code",
      "execution_count": 3,
      "metadata": {
        "colab": {
          "base_uri": "https://localhost:8080/"
        },
        "id": "LvER8skXO60F",
        "outputId": "230137e9-2403-4b64-a0f1-c2efc26af48d"
      },
      "outputs": [
        {
          "output_type": "stream",
          "name": "stdout",
          "text": [
            "G\n",
            "GATG\n",
            "TGC\n",
            "TGC\n",
            "TG\n",
            "C\n"
          ]
        }
      ],
      "source": [
        "sequence = \"GATGCCATGC\"\n",
        "\n",
        "#Extrahieren von zusammenhängenden Stringteilen\n",
        "print(sequence[0:1])\n",
        "print(sequence[0:4])\n",
        "\n",
        "#Mit negativen Werten kann man die Stellen vom Ende angeben.\n",
        "#Mit len(sequence) können wir das Ende der Sequenz angeben\n",
        "\n",
        "print(sequence[-3:len(sequence)])\n",
        "\n",
        "#Wenn man keinen Index angiebt wird automatisch das Ende (bzw. vorne der Anfang) der\n",
        "#Sequenz genommen.\n",
        "\n",
        "print(sequence[-3:])\n",
        "print(sequence[-3:-1])\n",
        "print(sequence[-1])"
      ]
    },
    {
      "cell_type": "code",
      "execution_count": 4,
      "metadata": {
        "colab": {
          "base_uri": "https://localhost:8080/"
        },
        "id": "tRVADJR4O60F",
        "outputId": "40c286a5-750e-4002-91ed-148e3ca7c9b7"
      },
      "outputs": [
        {
          "output_type": "stream",
          "name": "stdout",
          "text": [
            "TG\n"
          ]
        }
      ],
      "source": [
        "print(sequence[-3:-1])"
      ]
    },
    {
      "cell_type": "code",
      "execution_count": 5,
      "metadata": {
        "colab": {
          "base_uri": "https://localhost:8080/"
        },
        "id": "k3d5duVuO60F",
        "outputId": "f5264806-e146-45a8-ddcf-bd513bd4e72a"
      },
      "outputs": [
        {
          "output_type": "stream",
          "name": "stdout",
          "text": [
            "10\n",
            "C\n"
          ]
        }
      ],
      "source": [
        "#Zuweisen der Sequenz zur Variable\n",
        "sequence = \"GATGCCATGC\"\n",
        "\n",
        "#Länge der Sequenz\n",
        "lenseq = len(sequence)\n",
        "print(lenseq)\n",
        "\n",
        "#Wenn ich versuche die Länge der Sequenz als Index zu verwenden um die letzte Position zu bekommen,\n",
        "#kommt es zu einer Fehlermeldung. Der letzte Index ist immer die Länge der Sequenz -1\n",
        "\n",
        "#last = sequence[lenseq]\n",
        "lasti = sequence[lenseq-1]\n",
        "\n",
        "#print(last)\n",
        "print(lasti)\n"
      ]
    },
    {
      "cell_type": "markdown",
      "metadata": {
        "id": "W_4ogSdOO60F"
      },
      "source": [
        "<code style=\"background:royalblue\"><span style=\"color:royalblue\">____________________________________________________________________________________________________ </span></code>\n",
        "\n",
        "**<font color = royalblue>Übung:</font>**\n",
        "\n",
        "* Weisen Sie die Sequenz \"GCCATGAAATGCGCAATATATGCTCCTAGAGGATGCTGATTGA\" einer Variable zu.\n",
        "* Extrahieren sie aus der Sequenz die ersten 5 Positionen.\n",
        "* Extrahieren sie aus der Sequenz die letzten 5 Positionen.\n",
        "* Zur Überprüfung der Sequenzteile, drucken sie die extrahierten Postitionen aus.\n",
        "\n",
        "***\n",
        "\n"
      ]
    },
    {
      "cell_type": "code",
      "execution_count": 9,
      "metadata": {
        "colab": {
          "base_uri": "https://localhost:8080/"
        },
        "id": "YaOMYqfJO60F",
        "outputId": "8b7a75f3-6c56-41e9-dd3d-622d22d2ed6e"
      },
      "outputs": [
        {
          "output_type": "stream",
          "name": "stdout",
          "text": [
            "GCCAT\n",
            "GATTG\n"
          ]
        }
      ],
      "source": [
        "# Zuweisen der Sequenz zu einer Variable (z.B. seq)\n",
        "seq = \"GCCATGAAATGCGCAATATATGCTCCTAGAGGATGCTGATTGA\"\n",
        "# Ersten 5 Positionen und letzten 5 Postitionen extrahieren.\n",
        "first = seq[0:5] #oder seq[:5]\n",
        "last = seq[-6:-1] #oder seq[-5:]\n",
        "#Zur Überprüfung druckt die Variablen \"first\" und \"last\" aus.\n",
        "print(first)\n",
        "print(last)"
      ]
    },
    {
      "cell_type": "markdown",
      "metadata": {
        "id": "W4NyoN2mO60G"
      },
      "source": [
        "<code style=\"background:royalblue\"><span style=\"color:royalblue\">____________________________________________________________________________________________________</span></code>\n",
        "\n",
        "Nun wollen wir den extrahierten Teil der Sequenz mit unserem Muster vergleichen. Dies können wir mit Vergleichsoperatoren, und einer if Abfrage umsetzen.\n",
        "\n",
        "\n",
        "> Zur Erinnerung: in Python hat eine if Bedingung den folgenden Syntax:\n",
        ">\n",
        ">>`if <Bedingung>:\n",
        ">>    Der Doppelpunkt ist wichtig, genau wie die Einrückung.\n",
        ">> else:\n",
        ">>     Auch hier benötigt man einen Doppelpunkt und die Einrückung.`\n",
        ">\n",
        ">Wenn es noch andere Bedingungen gibt, kann man in Python die Funktion `elif <Bedingung>:` verwenden.\n",
        ">\n",
        "> Vergleichsoperatoren können die folgenden sein: ==,!=, >, >=, <=, <\n",
        "\n",
        "\n",
        "Nun können wir diese Methode auf unsere Sequenz anwenden. Wir könne die ersten 3 Nukleotide mit unserem Muster vergleichen und entscheiden was wir weiter tun wollen.\n",
        "\n",
        "**<font color = royalblue>Übung:</font>**\n",
        "\n",
        "* Weisen Sie die Sequenz:\"GCCATGAAATGCGCAATATATGCTCCTAGAGGATGCTGATTGA\" einer Variable zu.\n",
        "* Extrahieren Sie aus der Sequenz die ersten 3 Positionen.\n",
        "* Vergleichen Sie die extrahierten Postitionen mit dem Muster \"ATG\".\n",
        "* Wenn die extrahierten Postitionen mit dem Muster übereinstimmen soll ein Zähler um eins erhöht werden.\n",
        "\n",
        "***\n"
      ]
    },
    {
      "cell_type": "code",
      "execution_count": 10,
      "metadata": {
        "colab": {
          "base_uri": "https://localhost:8080/"
        },
        "id": "i_5msLDiO60G",
        "outputId": "43c18244-c751-4d1b-e76b-d2ba95ae6855"
      },
      "outputs": [
        {
          "output_type": "stream",
          "name": "stdout",
          "text": [
            "Zählerwert: 0\n"
          ]
        }
      ],
      "source": [
        "#Zuweisen der Sequenz\n",
        "seq = \"GCCATGAAATGCGCAATATATGCTCCTAGAGGATGCTGATTGA\"\n",
        "\n",
        "#Initiieren der Zählvariable\n",
        "count = 0\n",
        "\n",
        "#Extrahieren der ersten drei Nukleotide\n",
        "seqteil = seq[0:3]\n",
        "\n",
        "#If Abfrage, vergleich der extrahierten Nukleotide mit dem Muster\n",
        "#Wenn sie übereinstimmen, Zähler erhöhen.\n",
        "if seqteil == \"ATG\":\n",
        "    # Hier soll der Zähler um 1 erhöht werden\n",
        "    count += 1\n",
        "\n",
        "print(\"Zählerwert:\", count)"
      ]
    },
    {
      "cell_type": "markdown",
      "metadata": {
        "id": "R15ZF13sO60G"
      },
      "source": [
        "<code style=\"background:royalblue\"><span style=\"color:royalblue\">____________________________________________________________________________________________________</span></code>\n",
        "\n",
        "Nun benötigen wir wieder eine Schleife um die Sequenz zu durchlaufen. Wir können aber leider nicht direkt eine Schleife über die Werte der Sequenz verwenden, wie in unserem Wetter Beispiel, da wir die Anfangsposition für die Extraktion der 3 Nukleotide benötigen.\n",
        "\n",
        "Eine Möglichkeit ist eine **while Schleife** mit einer Zählvariable. Die while Schleife wird solange durchlaufen bis die letzte Position bzw. der letzte Index der Sequenz erreicht ist.\n",
        "\n",
        "`\n",
        "idxcount=0\n",
        "while idxcount < len(seq):\n",
        "    Codeteil\n",
        "    idxcount += 1`\n",
        "\n",
        "\n",
        "Zusätzlich kommt es zu einer Fehlermeldung wenn wir Positionen extrahieren wollen die nicht existieren, etwa wenn wir an der letzten (und vorletzten) Position die nächsten 2 Stellen extrahieren wollen, und damit die Länge der Sequenz überschreiten.\n",
        "\n",
        "Daher müssen wir die for Schleife so definieren dass sie mit der drittletzten Stelle der Sequenz endet. Der letzte Index an dem wir einen Vergleich beginnen können ist 7. Man kann den letzten Index über die Länge der Sequenz - der Länge des Musters (10-3 = 7) berechnen.\n",
        "\n",
        "**<font color = royalblue>Aufgabe 3.2:</font>**\n",
        "\n",
        "* Verwenden Sie ihren bisherigen Code und fügen Sie eine while Schleife hinzu, die solange läuft, solange das Sequenzende noch nicht erreicht ist.\n",
        "* Führen Sie den Vergleich zwischen extrahierten Nukleotiden und dem Muster (\"ATG\") in der while Schleife durch.\n",
        "* Verändern Sie ihren Code so, dass die Startposition und Endposition für die extrahierten Nukleotide, in jedem Durchlauf der Schleife eine Position weiter rechts ist.\n",
        "* Erhöhen Sie den Schleifenzähler bei jedem Durchlauf um 1.\n",
        "\n",
        "\n",
        "***\n"
      ]
    },
    {
      "cell_type": "code",
      "execution_count": null,
      "metadata": {
        "id": "4ggtqdI_O60G"
      },
      "outputs": [],
      "source": [
        "#Zuweisen der Sequenz\n",
        "seq = \"GCCATGAAATGCGCAATATATGCTCCTAGAGGATGCTGATTGA\"\n",
        "\n",
        "# Initiieren der Zählvariablen\n",
        "idxcount = 0\n",
        "count = 0\n",
        "\n",
        "lastidx = len(seq)-3\n",
        "print(lastidx)\n",
        "\n"
      ]
    },
    {
      "cell_type": "code",
      "execution_count": null,
      "metadata": {
        "id": "zbqHk7DpO60H"
      },
      "outputs": [],
      "source": [
        "# Fügt in der Zeile mit while die beiden indices ein die hier verglichen\n",
        "# werden sollen. Der derzeitige Index soll kleiner gleich sein als der letzte\n",
        "# mögliche Index: while index_x <= index_y:\n",
        "while   <=   :\n",
        "    #Euer Codeteil mit der Extraktion der 3 Nukleotide\n",
        "    seqteil=\n",
        "#    print(seqteil)\n",
        "    # Euer Codeteil der nur durchgeführt wird wenn die 3 Nukleotide\n",
        "    # einem ATG entsprechen und Erhöhung des ATG Zählers: count.\n",
        "       if   :\n",
        "\n",
        "    #Erhöhung des Indexzählers um 1: idxcount\n",
        "\n",
        "\n",
        "#Ausgabe der Anzahl der ATGs die gefunden wurden.\n",
        "print(count)"
      ]
    },
    {
      "cell_type": "markdown",
      "source": [
        "MY CODE:"
      ],
      "metadata": {
        "id": "7n3pGWEi8GaJ"
      }
    },
    {
      "cell_type": "code",
      "source": [
        "#Zuweisen der Sequenz\n",
        "seq = \"GCCATGAAATGCGCAATATATGCTCCTAGAGGATGCTGATTGA\"\n",
        "\n",
        "# Initiieren der Zählvariablen\n",
        "idxcount = 0\n",
        "count = 0\n",
        "\n",
        "lastidx = len(seq) - 3\n",
        "\n",
        "#solange idxcount <= lastidx\n",
        "while idxcount <= lastidx:\n",
        "    # Extraktion von 3 Nukleotiden ab der aktuellen Position\n",
        "    seqteil = seq[idxcount:idxcount + 3]\n",
        "    # print(seqteil)\n",
        "\n",
        "    if seqteil == \"ATG\":\n",
        "        count += 1\n",
        "\n",
        "    idxcount += 1\n",
        "\n",
        "print(\"Anzahl der 'ATG'-Muster in der Sequenz:\", count)"
      ],
      "metadata": {
        "colab": {
          "base_uri": "https://localhost:8080/"
        },
        "id": "huyIedhN8H2k",
        "outputId": "52380e68-4ba7-43f1-c840-3977afb95c43"
      },
      "execution_count": 11,
      "outputs": [
        {
          "output_type": "stream",
          "name": "stdout",
          "text": [
            "Anzahl der 'ATG'-Muster in der Sequenz: 4\n"
          ]
        }
      ]
    }
  ],
  "metadata": {
    "kernelspec": {
      "display_name": "Python 3 (ipykernel)",
      "language": "python",
      "name": "python3"
    },
    "language_info": {
      "codemirror_mode": {
        "name": "ipython",
        "version": 3
      },
      "file_extension": ".py",
      "mimetype": "text/x-python",
      "name": "python",
      "nbconvert_exporter": "python",
      "pygments_lexer": "ipython3",
      "version": "3.13.1"
    },
    "colab": {
      "provenance": [],
      "include_colab_link": true
    }
  },
  "nbformat": 4,
  "nbformat_minor": 0
}